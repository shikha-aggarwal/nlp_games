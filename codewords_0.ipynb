{
  "nbformat": 4,
  "nbformat_minor": 0,
  "metadata": {
    "colab": {
      "name": "codewords_0.ipynb",
      "provenance": [],
      "collapsed_sections": [],
      "authorship_tag": "ABX9TyOZLbI1SbMAMUMX+B0TpHbt",
      "include_colab_link": true
    },
    "kernelspec": {
      "name": "python3",
      "display_name": "Python 3"
    }
  },
  "cells": [
    {
      "cell_type": "markdown",
      "metadata": {
        "id": "view-in-github",
        "colab_type": "text"
      },
      "source": [
        "<a href=\"https://colab.research.google.com/github/shikha-aggarwal/nlp_games/blob/main/codewords_0.ipynb\" target=\"_parent\"><img src=\"https://colab.research.google.com/assets/colab-badge.svg\" alt=\"Open In Colab\"/></a>"
      ]
    },
    {
      "cell_type": "markdown",
      "metadata": {
        "id": "PaXYrVAfTuR4"
      },
      "source": [
        "### An implementation of an extremely fun game Codewords."
      ]
    },
    {
      "cell_type": "code",
      "metadata": {
        "colab": {
          "base_uri": "https://localhost:8080/"
        },
        "id": "xLVTvlottqPP",
        "outputId": "f9dea8a0-3eeb-4603-eaa8-b832355a7e0d"
      },
      "source": [
        "# standard ML imports\n",
        "import torch\n",
        "import torchtext # for glove vectors\n",
        "import collections\n",
        "import random\n",
        "import numpy as np\n",
        "\n",
        "# # Text processing\n",
        "from nltk.stem import PorterStemmer \n",
        "from nltk.tokenize import word_tokenize\n",
        "import nltk\n",
        "nltk.download('wordnet')\n",
        "from nltk.corpus import wordnet as wn"
      ],
      "execution_count": 1,
      "outputs": [
        {
          "output_type": "stream",
          "text": [
            "[nltk_data] Downloading package wordnet to /root/nltk_data...\n",
            "[nltk_data]   Package wordnet is already up-to-date!\n"
          ],
          "name": "stdout"
        }
      ]
    },
    {
      "cell_type": "code",
      "metadata": {
        "id": "gbpfRXUct5s6"
      },
      "source": [
        "# The first time you run this will download a ~823MB file\n",
        "glove = torchtext.vocab.GloVe(name=\"6B\", dim=50)\n",
        "porter_stemmer = PorterStemmer() "
      ],
      "execution_count": 2,
      "outputs": []
    },
    {
      "cell_type": "code",
      "metadata": {
        "colab": {
          "base_uri": "https://localhost:8080/"
        },
        "id": "VwFcI31x-2nw",
        "outputId": "34634c70-047c-4627-c0bb-f953af40b7f1"
      },
      "source": [
        "from google.colab import drive\n",
        "drive.mount('/content/drive')"
      ],
      "execution_count": 3,
      "outputs": [
        {
          "output_type": "stream",
          "text": [
            "Drive already mounted at /content/drive; to attempt to forcibly remount, call drive.mount(\"/content/drive\", force_remount=True).\n"
          ],
          "name": "stdout"
        }
      ]
    },
    {
      "cell_type": "code",
      "metadata": {
        "id": "SX_ebDhaLoMl"
      },
      "source": [
        "## Save vocab file\n",
        "\n",
        "data_dir = '/content/drive/My Drive/Colab Notebooks/Codewords/data/'\n",
        "vocab_file = data_dir + 'vocab.txt'\n",
        "\n",
        "## Run the first time only\n",
        "# def save_vocab(path):\n",
        "#   with open(path, 'w+') as f:     \n",
        "#     for token, index in glove.stoi.items():\n",
        "#       f.write(f'{token}\\n')\n",
        "#       #f.write(f'{index}\\t{token}\\n')\n",
        "\n",
        "# save_vocab(vocab_file)\n",
        "\n",
        "def read_vocab(path):\n",
        "    vocab = []\n",
        "    i = 0\n",
        "    with open(path, 'r') as f:\n",
        "      for line in f:\n",
        "        token = line.strip()\n",
        "        # index, token = line.split('\\t')\n",
        "        vocab.append(token)\n",
        "    return vocab\n",
        "\n",
        "all_glove_words = read_vocab(vocab_file)"
      ],
      "execution_count": 4,
      "outputs": []
    },
    {
      "cell_type": "code",
      "metadata": {
        "colab": {
          "base_uri": "https://localhost:8080/"
        },
        "id": "IrEhZ8qB-_Ax",
        "outputId": "7bd75c17-55c7-4d76-dd61-7465386e69da"
      },
      "source": [
        "## Source for common-use English word files: https://github.com/first20hours/google-10000-english\n",
        "\n",
        "english_word_files = ['english_10k_long.txt',\n",
        "                      'english_10k_medium.txt']\n",
        "\n",
        "words = []\n",
        "\n",
        "for filename in english_word_files:\n",
        "  with open(data_dir + filename, \"r\") as file:\n",
        "    for line in file:\n",
        "      word = line.strip()\n",
        "      if word in all_glove_words:\n",
        "        words.append(word)\n",
        "\n",
        "nouns = {x.name().split('.', 1)[0] for x in wn.all_synsets('n')} \n",
        "\n",
        "noun_words = [w for w in words if w in nouns]\n",
        "\n",
        "# shuffle the words\n",
        "random.shuffle(noun_words)\n",
        "print(len(noun_words))"
      ],
      "execution_count": 5,
      "outputs": [
        {
          "output_type": "stream",
          "text": [
            "3714\n"
          ],
          "name": "stdout"
        }
      ]
    },
    {
      "cell_type": "code",
      "metadata": {
        "id": "JvC4Vr7LBzwp"
      },
      "source": [
        "def get_nearest_words(word_vector, n=5):\n",
        "  # compute distances to all words\n",
        "  distance_to_all = torch.norm(glove.vectors - word_vector, dim=1)\n",
        "  # sort\n",
        "  dist_sorted = sorted(enumerate(distance_to_all.numpy()), key=lambda x: x[1])\n",
        "  nearest_word_list = []\n",
        "  for index, distance in dist_sorted[1:n+1]:\n",
        "    nearest_word_list.append((glove.itos[index], distance))\n",
        "  return nearest_word_list"
      ],
      "execution_count": 6,
      "outputs": []
    },
    {
      "cell_type": "code",
      "metadata": {
        "colab": {
          "base_uri": "https://localhost:8080/"
        },
        "id": "hnwvmu4CSIKx",
        "outputId": "6b27d2e3-278d-4e8e-fe11-46fa33ad4d26"
      },
      "source": [
        "print(get_nearest_words(glove[\"cat\"], n=10))\n",
        "print(get_nearest_words(glove['queen'] - glove['woman'] + glove['man']))\n",
        "print(get_nearest_words(glove['grandmother'] - glove['mother'] + glove['father']))\n",
        "print(get_nearest_words(glove['doctor'] - glove['man'] + glove['woman']))"
      ],
      "execution_count": 7,
      "outputs": [
        {
          "output_type": "stream",
          "text": [
            "[('dog', 1.8846031), ('rabbit', 2.4572797), ('monkey', 2.8102052), ('cats', 2.8972251), ('rat', 2.9455352), ('beast', 2.9878407), ('monster', 3.0022194), ('pet', 3.0396757), ('snake', 3.0617998), ('puppy', 3.0644655)]\n",
            "[('king', 2.8391209), ('prince', 3.2508988), ('crown', 3.4485195), ('knight', 3.5587437), ('coronation', 3.6198905)]\n",
            "[('uncle', 2.0784423), ('father', 2.0912485), ('grandson', 2.2965577), ('nephew', 2.353551), ('elder', 2.4274695)]\n",
            "[('nurse', 3.1355345), ('pregnant', 3.7805371), ('child', 3.78347), ('woman', 3.8643107), ('mother', 3.922231)]\n"
          ],
          "name": "stdout"
        }
      ]
    },
    {
      "cell_type": "code",
      "metadata": {
        "id": "tdhiKWsLGtTG"
      },
      "source": [
        "def get_clue_word(word_list, words_covered = 1, distance_threshold = 4):\n",
        "  num_words = len(word_list)\n",
        "  distances = {}\n",
        "\n",
        "  nearest_word_list = []\n",
        "  for i in range(num_words - words_covered + 1):\n",
        "    word_vec = glove[word_list[i]]\n",
        "    word_group = [word_list[i]]\n",
        "    for j in range(i + 1, i + words_covered):\n",
        "      word_group.append(word_list[j])\n",
        "      word_vec += glove[word_list[j]]\n",
        "\n",
        "    mean_word_vec = word_vec / words_covered\n",
        "    nearest_words = get_nearest_words(mean_word_vec, n=10)\n",
        "    selected_word, selected_dist = None, None\n",
        "    for word, distance in nearest_words:\n",
        "      match = False\n",
        "      for w in word_group:\n",
        "        if porter_stemmer.stem(word) == porter_stemmer.stem(w):\n",
        "          match = True\n",
        "      if not match:\n",
        "        selected_word = word\n",
        "        selected_dist = distance\n",
        "        break\n",
        "\n",
        "    nearest_word_list.append((word_group, (selected_word, selected_dist)))\n",
        "\n",
        "  nearest_word_list = sorted(nearest_word_list, key=lambda x: x[1][1])\n",
        "\n",
        "  nearest_word_list_final = []\n",
        "  for word_group, (word, dist) in nearest_word_list:\n",
        "    if dist < distance_threshold:\n",
        "        nearest_word_list_final.append((word_group, (word, dist)))\n",
        "\n",
        "  return nearest_word_list_final"
      ],
      "execution_count": 8,
      "outputs": []
    },
    {
      "cell_type": "code",
      "metadata": {
        "colab": {
          "base_uri": "https://localhost:8080/"
        },
        "id": "Gd-57T_kTmpe",
        "outputId": "7397b6ed-440d-455f-f327-b8623c0da932"
      },
      "source": [
        "get_clue_word(['doctor', 'man', 'woman', 'grandmother', 'mother', 'king'])"
      ],
      "execution_count": 9,
      "outputs": [
        {
          "output_type": "execute_result",
          "data": {
            "text/plain": [
              "[(['grandmother'], ('aunt', 1.8343304)),\n",
              " (['mother'], ('daughter', 1.877375)),\n",
              " (['woman'], ('girl', 2.4311144)),\n",
              " (['man'], ('woman', 2.6026237)),\n",
              " (['doctor'], ('physician', 3.0890384)),\n",
              " (['king'], ('prince', 3.1179733))]"
            ]
          },
          "metadata": {
            "tags": []
          },
          "execution_count": 9
        }
      ]
    },
    {
      "cell_type": "markdown",
      "metadata": {
        "id": "Z9GzkLh_EHYz"
      },
      "source": [
        "### Start a Codewords game"
      ]
    },
    {
      "cell_type": "code",
      "metadata": {
        "id": "fQdIvfUlDzti"
      },
      "source": [
        "## Select words for the game\n",
        "\n",
        "grid_len = 5\n",
        "grid_height = 5\n",
        "num_words_in_game = grid_len * grid_height\n",
        "word_set = random.sample(noun_words, num_words_in_game)\n",
        "\n",
        "## Divide into red and blue\n",
        "one_third = int(num_words_in_game / 3)\n",
        "red_words = random.sample(word_set, one_third)\n",
        "remaining_words = [item for item in word_set if item not in red_words]\n",
        "blue_words = random.sample(remaining_words, one_third)"
      ],
      "execution_count": 10,
      "outputs": []
    },
    {
      "cell_type": "code",
      "metadata": {
        "colab": {
          "base_uri": "https://localhost:8080/"
        },
        "id": "9-o358YQFUYz",
        "outputId": "10ce50c4-74bc-42d9-d6ee-3db7019fb314"
      },
      "source": [
        "get_clue_word(red_words)"
      ],
      "execution_count": 11,
      "outputs": [
        {
          "output_type": "execute_result",
          "data": {
            "text/plain": [
              "[(['morning'], ('afternoon', 1.3307415)),\n",
              " (['anime'], ('manga', 2.7139568)),\n",
              " (['reflection'], ('evident', 2.8652496)),\n",
              " (['activation'], ('signaling', 2.9453557)),\n",
              " (['moscow'], ('kiev', 2.998451)),\n",
              " (['feedback'], ('input', 3.100595)),\n",
              " (['distributor'], ('wholesaler', 3.1208465)),\n",
              " (['keyboard'], ('synthesizer', 3.2671976))]"
            ]
          },
          "metadata": {
            "tags": []
          },
          "execution_count": 11
        }
      ]
    },
    {
      "cell_type": "code",
      "metadata": {
        "colab": {
          "base_uri": "https://localhost:8080/"
        },
        "id": "DXmkC50nBB28",
        "outputId": "e22cdcc2-a0f3-45c5-f3a2-0928d2a2a137"
      },
      "source": [
        "get_clue_word(red_words, words_covered=2)"
      ],
      "execution_count": 12,
      "outputs": [
        {
          "output_type": "execute_result",
          "data": {
            "text/plain": [
              "[(['distributor', 'reflection'], ('creates', 2.793511)),\n",
              " (['feedback', 'keyboard'], ('input', 3.0776713)),\n",
              " (['morning', 'anime'], ('appearing', 3.0998943)),\n",
              " (['reflection', 'feedback'], ('impression', 3.1071374)),\n",
              " (['activation', 'distributor'], ('component', 3.1305041)),\n",
              " (['anime', 'moscow'], ('simultaneously', 3.286003)),\n",
              " (['moscow', 'activation'], ('signaling', 3.3413205))]"
            ]
          },
          "metadata": {
            "tags": []
          },
          "execution_count": 12
        }
      ]
    },
    {
      "cell_type": "code",
      "metadata": {
        "id": "Pip7YOE05sIN"
      },
      "source": [
        ""
      ],
      "execution_count": 12,
      "outputs": []
    }
  ]
}